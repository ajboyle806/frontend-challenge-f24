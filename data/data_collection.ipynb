{
 "cells": [
  {
   "cell_type": "code",
   "execution_count": 6,
   "metadata": {},
   "outputs": [],
   "source": [
    "import requests\n",
    "\n",
    "# Scraping all F2024 Courses\n",
    "\n",
    "all_courses = requests.get(\"https://penncourseplan.com/api/base/current/courses\").json()"
   ]
  },
  {
   "cell_type": "code",
   "execution_count": 27,
   "metadata": {},
   "outputs": [],
   "source": [
    "# List for sections\n",
    "section_list = []\n",
    "\n",
    "# List for courses\n",
    "course_list = []\n",
    "\n",
    "# Iterate through all courses\n",
    "for course in all_courses:\n",
    "\n",
    "    # proceed if at least 1 section\n",
    "\n",
    "    if course[\"num_sections\"] > 0:\n",
    "        \n",
    "        # Grab course data for ID\n",
    "        \n",
    "        id = course[\"id\"]\n",
    "        course_data = requests.get(\"https://penncourseplan.com/api/base/current/courses/\" + id + \"/\").json()\n",
    "\n",
    "        # Data common to course and section lists\n",
    "        common = [course_data[\"id\"], course_data[\"title\"], course_data[\"description\"], course_data[\"prerequisites\"]]\n",
    "\n",
    "        # Data unique to course list\n",
    "        course_additions = [course_data[\"course_quality\"], course_data[\"instructor_quality\"], course_data[\"difficulty\"], course_data[\"work_required\"], course_data[\"credits\"]]\n",
    "\n",
    "        # Iterating through available sections\n",
    "        for section in course_data[\"sections\"]:\n",
    "            \n",
    "            instructor = \"\"\n",
    "            try: \n",
    "                instructor = section[\"instructors\"][0]['name']\n",
    "            except:\n",
    "                pass\n",
    "\n",
    "            # Data unique to section list\n",
    "            section_additions = [section[\"id\"], section[\"activity\"], instructor, section[\"credits\"], section[\"course_quality\"], section[\"instructor_quality\"], section[\"difficulty\"], section[\"work_required\"], section[\"meetings\"], section[\"associated_sections\"]]\n",
    "            \n",
    "            section_list.append(common + section_additions)\n",
    "\n",
    "        course_list.append(common + course_additions)\n"
   ]
  },
  {
   "cell_type": "code",
   "execution_count": 28,
   "metadata": {},
   "outputs": [],
   "source": [
    "# saving to df\n",
    "\n",
    "import pandas as pd\n",
    "\n",
    "course_df = pd.DataFrame(course_list, columns=[\"id\", \"title\", \"description\", \"prerequisites\", \"course_quality\", \"instructor_quality\", \"difficulty\", \"work_required\", \"credits\"]).drop_duplicates()\n",
    "section_df = pd.DataFrame(section_list, columns=[\"id\", \"title\", \"description\", \"prerequisites\", \"section_id\", \"activity\", \"instructor\", \"credits\", \"course_quality\", \"instructor_quality\", \"difficulty\", \"work_required\", \"meetings\", \"associated_sections\"]).drop_duplicates(subset=[\"section_id\"])\n"
   ]
  },
  {
   "cell_type": "code",
   "execution_count": 29,
   "metadata": {},
   "outputs": [],
   "source": [
    "# exporting\n",
    "\n",
    "import json\n",
    "\n",
    "course_json = course_df.to_json(orient=\"records\")\n",
    "with open('course_data.json', 'w') as f:\n",
    "    f.write(course_json)\n",
    "\n",
    "section_json = section_df.to_json(orient=\"records\")\n",
    "with open('section_data.json', 'w') as f:\n",
    "    f.write(section_json)"
   ]
  }
 ],
 "metadata": {
  "kernelspec": {
   "display_name": "Python 3",
   "language": "python",
   "name": "python3"
  },
  "language_info": {
   "codemirror_mode": {
    "name": "ipython",
    "version": 3
   },
   "file_extension": ".py",
   "mimetype": "text/x-python",
   "name": "python",
   "nbconvert_exporter": "python",
   "pygments_lexer": "ipython3",
   "version": "3.11.4"
  }
 },
 "nbformat": 4,
 "nbformat_minor": 2
}
